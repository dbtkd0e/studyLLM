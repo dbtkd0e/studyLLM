{
 "cells": [
  {
   "cell_type": "markdown",
   "id": "50d9e8a4-e0d9-40f5-a882-3d0fcc24d833",
   "metadata": {},
   "source": [
    "# 웹사이트 요약"
   ]
  },
  {
   "cell_type": "markdown",
   "id": "1ef0a1e3-9760-4c01-abc9-4956d93f5e73",
   "metadata": {},
   "source": [
    "## 라이브러리 설명\n",
    "### import os\n",
    "\n",
    "표준 라이브러리 중 하나로, 운영체제와 상호작용할 수 있게 해준다.<br>\n",
    "#### 주요 기능\n",
    "환경변수 접근: os.version['KEY']   \n",
    "파일/디렉토리 경로 제어: os.path.join(), os.mkdir(), os.listdir()   \n",
    "현재 작업 디렉토리: os.getcwd(), os.chdir()\n",
    "<br>\n",
    "### import requests\n",
    "\n",
    "HTTP 요청을 보낼 수 있는 외부 라이브러리로, 웹 API와 통신할 때 자주 사용된다.<br>\n",
    "#### 주요 기능\n",
    "- GET 요청: <code>requests.get(url)</code>\n",
    "- POST 요청: <code>requests.post(url, data={})</code>\n",
    "- 응답코드 확인: <code>response.status_code</code>\n",
    "- 응답 본문 읽기: <code>response.text</code> 또는 <code>response.json()</code>\n",
    "> requests는 내장 모듈이 아니므로, 설치가 필요함: pip install requests\n",
    "\n",
    "### from dotenv import load_dotenv\n",
    ".env 파일에 저장된 환경변수들을 읽어오는 기능을 제공하는 <code>python-dotenv</code> 라이브러리의 함수이다. <br>\n",
    "#### 주요 사용법\n",
    "- <code>.env</code>파일에 설정한 API 키나 비밀번호 등을 코드에서 불러올 때 사용\n",
    "- 예: <code>.env</code> 파일에 OPENAI_API_KEY=abc123라고 저장되어 있으면,\n",
    "<pre><code>\n",
    "load_dotenv()\n",
    "os.getenv(\"OPENAI_API_KEY\")\n",
    "</code></pre>\n",
    "\n",
    "\n",
    "### from bs4 import BeautifulSoup\n",
    "HTML/XML 문서를 파싱해서, 원하는 데이터를 쉽게 추출하도록 도와주는 파이썬 라이브러리이다.\n",
    "\n",
    "### from IPython.display import Markdown, display\n",
    "\n",
    "Jupyter Notebook 등에서 마크다운 형식의 텍스트를 렌더링하거나 다양한 결과물을 시각적으로 표시할 수 있도록 해주는 IPython의 유틸리티\n",
    "#### 주요 사용법\n",
    "<code>display(Markdown(\"# 제목입니다\"))</code>\n",
    "\n",
    "### from openai import OpenAI\n",
    "\n",
    "OpenAI의 Python SDK에서 OpenAI 클래스 또는 모듈을 가져오는 코드.\n",
    "#### 주요 기능\n",
    "- ChatGPT API 호출\n",
    "- 모델 선택, 포름프트 전송, 응답 받기\n",
    "- 예\n",
    "<pre><code>from openai import OpenAI\n",
    "client = OpenAI(api_key\"...\")\n",
    "response = client.chat.completions.create(...)</code></pre>"
   ]
  },
  {
   "cell_type": "code",
   "execution_count": 2,
   "id": "7b73437c-7909-4fb3-81b0-9da1c1a2d63e",
   "metadata": {},
   "outputs": [],
   "source": [
    "# 필요한 라이브러리 import\n",
    "import os\n",
    "import requests\n",
    "from dotenv import load_dotenv\n",
    "from bs4 import BeautifulSoup\n",
    "from IPython.display import Markdown, display\n",
    "from openai import OpenAI"
   ]
  },
  {
   "cell_type": "code",
   "execution_count": 3,
   "id": "b43d78e8-7b08-4726-89d7-a730cd3f5aad",
   "metadata": {},
   "outputs": [
    {
     "name": "stdout",
     "output_type": "stream",
     "text": [
      "API key를 찾았습니다.\n"
     ]
    }
   ],
   "source": [
    "# API key 불러오기\n",
    "load_dotenv(override=True)\n",
    "\n",
    "api_key = os.getenv('OPENAI_API_KEY') # .env에 저장된 API KEY의 이름\n",
    "\n",
    "if not api_key:\n",
    "    print(\"API Key를 찾을 수 없습니다.\")\n",
    "else:\n",
    "    print(\"API key를 찾았습니다.\")"
   ]
  },
  {
   "cell_type": "code",
   "execution_count": 4,
   "id": "7664c2e5-9977-4a6b-ab7f-37ebd0e73d27",
   "metadata": {},
   "outputs": [],
   "source": [
    "openai = OpenAI() # OpenAI 객체 생성"
   ]
  },
  {
   "cell_type": "code",
   "execution_count": 5,
   "id": "c02f45ec-7cb4-4ad3-ad00-90c1f56bcebf",
   "metadata": {},
   "outputs": [
    {
     "name": "stdout",
     "output_type": "stream",
     "text": [
      "안녕하세요! API 테스트에 대해 궁금한 점이나 요청하실 내용이 있다면 말씀해 주세요. 돕기 위해 여기 있습니다!\n"
     ]
    }
   ],
   "source": [
    "# 테스트\n",
    "message = \"이것은 API Test이다.\"\n",
    "\n",
    "response = openai.chat.completions.create(\n",
    "    model=\"gpt-4o-mini\", \n",
    "    messages=[{\"role\":\"user\", \"content\":message}]\n",
    ")\n",
    "\n",
    "print(response.choices[0].message.content)"
   ]
  },
  {
   "cell_type": "code",
   "execution_count": 6,
   "id": "7957f40b-53eb-4f7f-aea9-e6d67619eacc",
   "metadata": {},
   "outputs": [
    {
     "name": "stdout",
     "output_type": "stream",
     "text": [
      "ChatCompletion(id='chatcmpl-BzDX9C1palKgVIZMIF4zUSYhdV16o', choices=[Choice(finish_reason='stop', index=0, logprobs=None, message=ChatCompletionMessage(content='안녕하세요! API 테스트에 대해 궁금한 점이나 요청하실 내용이 있다면 말씀해 주세요. 돕기 위해 여기 있습니다!', refusal=None, role='assistant', annotations=[], audio=None, function_call=None, tool_calls=None))], created=1753929731, model='gpt-4o-mini-2024-07-18', object='chat.completion', service_tier='default', system_fingerprint='fp_34a54ae93c', usage=CompletionUsage(completion_tokens=30, prompt_tokens=14, total_tokens=44, completion_tokens_details=CompletionTokensDetails(accepted_prediction_tokens=0, audio_tokens=0, reasoning_tokens=0, rejected_prediction_tokens=0), prompt_tokens_details=PromptTokensDetails(audio_tokens=0, cached_tokens=0)))\n"
     ]
    }
   ],
   "source": [
    "print(response) # response 결과"
   ]
  },
  {
   "cell_type": "code",
   "execution_count": 7,
   "id": "91141eb0-42ec-4dd4-8b7d-18956b92c06a",
   "metadata": {},
   "outputs": [],
   "source": [
    "# 크롤링 방지 우회: User-Agent 설정\n",
    "headers = {\n",
    " \"User-Agent\": \"Mozilla/5.0 (Windows NT 10.0; Win64; x64) AppleWebKit/537.36 (KHTML, like Gecko) Chrome/117.0.0.0 Safari/537.36\"\n",
    "}\n",
    "\n",
    "class Website:\n",
    "\n",
    "    def __init__(self, url):\n",
    "        self.url = url\n",
    "        response = requests.get(url, headers=headers)\n",
    "        soup = BeautifulSoup(response.content, 'html.parser')\n",
    "        self.title = soup.title.string if soup.title else \"타이틀을 찾을 수 없습니다.\"\n",
    "        for irrelevant in soup.body([\"script\", \"style\", \"img\", \"input\"]):\n",
    "            irrelevant.decompose()\n",
    "        self.text = soup.body.get_text(separator=\"\\n\", strip=True)\n",
    "        "
   ]
  },
  {
   "cell_type": "code",
   "execution_count": 8,
   "id": "3e47d1ee-8b89-4c18-98d6-7660b7606f9c",
   "metadata": {},
   "outputs": [
    {
     "name": "stdout",
     "output_type": "stream",
     "text": [
      "NAVER\n",
      "상단영역 바로가기\n",
      "서비스 메뉴 바로가기\n",
      "새소식 블록 바로가기\n",
      "쇼핑 블록 바로가기\n",
      "관심사 블록 바로가기\n",
      "MY 영역 바로가기\n",
      "위젯 보드 바로가기\n",
      "보기 설정 바로가기\n",
      "검색\n",
      "검색\n",
      "입력도구\n",
      "자동완성/최근검색어펼치기\n"
     ]
    }
   ],
   "source": [
    "naver = Website(\"https://www.naver.com\")\n",
    "print(naver.title)\n",
    "print(naver.text)"
   ]
  },
  {
   "cell_type": "markdown",
   "id": "5a6e9557-3c09-4d0e-86ee-678095da91c1",
   "metadata": {},
   "source": [
    "#### System prompt와 User prompt\n",
    "- system_prompt: 모델의 전체 역할, 응답 형식, 무시해야 할 정보, 언어 설정 등\n",
    "- user_prompt: 입력 데이터와 요약 요청 등 구체적 작업 지시"
   ]
  },
  {
   "cell_type": "code",
   "execution_count": 9,
   "id": "ca824875-7ff1-4f2a-9913-49a58284f770",
   "metadata": {},
   "outputs": [],
   "source": [
    "system_prompt = \"You are an assistant that analyzes the contents of a website \\\n",
    "and provides a short summary, ignoring text that might be navigation related. \\\n",
    "Respond in markdown. \\\n",
    "Say in Korean.\""
   ]
  },
  {
   "cell_type": "code",
   "execution_count": 10,
   "id": "c469492b-5550-447b-ac15-d60844a8dbcd",
   "metadata": {},
   "outputs": [],
   "source": [
    "def user_prompt_for(website):\n",
    "    user_prompt = f\"You are looking at a website titled {website.title}\"\n",
    "    user_prompt += \"\\nThe contents of this website is as follows; \\\n",
    "                    please provide a short summary of this website in markdown. \\\n",
    "                    If it includes news or announcements, then summarize these too.\\n\\n\"\n",
    "    user_prompt += website.text\n",
    "    return user_prompt"
   ]
  },
  {
   "cell_type": "code",
   "execution_count": 11,
   "id": "22680929-222f-44b0-aff1-f082ab787379",
   "metadata": {},
   "outputs": [
    {
     "name": "stdout",
     "output_type": "stream",
     "text": [
      "You are looking at a website titled NAVER\n",
      "The contents of this website is as follows;                     please provide a short summary of this website in markdown.                     If it includes news or announcements, then summarize these too.\n",
      "\n",
      "상단영역 바로가기\n",
      "서비스 메뉴 바로가기\n",
      "새소식 블록 바로가기\n",
      "쇼핑 블록 바로가기\n",
      "관심사 블록 바로가기\n",
      "MY 영역 바로가기\n",
      "위젯 보드 바로가기\n",
      "보기 설정 바로가기\n",
      "검색\n",
      "검색\n",
      "입력도구\n",
      "자동완성/최근검색어펼치기\n"
     ]
    }
   ],
   "source": [
    "print(user_prompt_for(naver))"
   ]
  },
  {
   "cell_type": "code",
   "execution_count": 12,
   "id": "0d763582-5d42-462f-9941-a84f7b8e69d8",
   "metadata": {},
   "outputs": [],
   "source": [
    "# system, user 테스트 \n",
    "messages = [\n",
    "    {\"role\": \"system\", \"content\": \"You are a snarky assistant. Say in Korean.\"},\n",
    "    {\"role\": \"user\", \"content\": \"What is 2 + 2?\"}\n",
    "]"
   ]
  },
  {
   "cell_type": "code",
   "execution_count": 13,
   "id": "5a92eae9-2f6c-4035-a0ed-45586781ed6e",
   "metadata": {},
   "outputs": [
    {
     "name": "stdout",
     "output_type": "stream",
     "text": [
      "2 + 2는 4죠. 이렇게 간단한 문제를 의심하실 줄은 몰랐네요!\n"
     ]
    }
   ],
   "source": [
    "response = openai.chat.completions.create(model=\"gpt-4o-mini\", messages=messages)\n",
    "print(response.choices[0].message.content)"
   ]
  },
  {
   "cell_type": "code",
   "execution_count": 14,
   "id": "90d1dbf0-9ed1-4a2a-aa41-587ed55c30be",
   "metadata": {},
   "outputs": [],
   "source": [
    "def messages_for(website):\n",
    "    return [\n",
    "        {\"role\": \"system\", \"content\": system_prompt},\n",
    "        {\"role\": \"user\", \"content\": user_prompt_for(website)}\n",
    "    ]"
   ]
  },
  {
   "cell_type": "code",
   "execution_count": 15,
   "id": "f51b288f-8df1-4bb2-8c9e-ef3f5e5cda94",
   "metadata": {},
   "outputs": [
    {
     "data": {
      "text/plain": [
       "[{'role': 'system',\n",
       "  'content': 'You are an assistant that analyzes the contents of a website and provides a short summary, ignoring text that might be navigation related. Respond in markdown. Say in Korean.'},\n",
       " {'role': 'user',\n",
       "  'content': 'You are looking at a website titled NAVER\\nThe contents of this website is as follows;                     please provide a short summary of this website in markdown.                     If it includes news or announcements, then summarize these too.\\n\\n상단영역 바로가기\\n서비스 메뉴 바로가기\\n새소식 블록 바로가기\\n쇼핑 블록 바로가기\\n관심사 블록 바로가기\\nMY 영역 바로가기\\n위젯 보드 바로가기\\n보기 설정 바로가기\\n검색\\n검색\\n입력도구\\n자동완성/최근검색어펼치기'}]"
      ]
     },
     "execution_count": 15,
     "metadata": {},
     "output_type": "execute_result"
    }
   ],
   "source": [
    "messages_for(naver)"
   ]
  },
  {
   "cell_type": "code",
   "execution_count": 16,
   "id": "3e010295-6bfc-4b49-a1bf-c4ad4cb6180f",
   "metadata": {},
   "outputs": [],
   "source": [
    "def summarize(url):\n",
    "    website = Website(url)\n",
    "    response = openai.chat.completions.create(\n",
    "        model = \"gpt-4o-mini\",\n",
    "        messages = messages_for(website)\n",
    "    )\n",
    "    return response.choices[0].message.content"
   ]
  },
  {
   "cell_type": "code",
   "execution_count": 17,
   "id": "ec217d9c-7405-493e-81e0-d1cd80c7c707",
   "metadata": {},
   "outputs": [
    {
     "data": {
      "text/plain": [
       "'# NAVER 요약\\n\\nNAVER는 다양한 온라인 서비스와 정보를 제공하는 플랫폼입니다. 사용자는 뉴스, 쇼핑, 그리고 개인적인 관심사에 관련된 콘텐츠를 탐색할 수 있습니다. 상단 메뉴에는 검색 기능이 포함되어 있어 사용자가 원하는 정보를 쉽게 찾을 수 있도록 도와줍니다. \\n\\n현재 특별한 뉴스나 공지가 포함되어 있지 않습니다.'"
      ]
     },
     "execution_count": 17,
     "metadata": {},
     "output_type": "execute_result"
    }
   ],
   "source": [
    "summarize(\"https://naver.com\")"
   ]
  },
  {
   "cell_type": "code",
   "execution_count": 18,
   "id": "87f5ec7e-02ea-4bcf-909a-cf18545478ac",
   "metadata": {},
   "outputs": [],
   "source": [
    "def display_summary(url):\n",
    "    summary = summarize(url)\n",
    "    display(Markdown(summary))"
   ]
  },
  {
   "cell_type": "code",
   "execution_count": 19,
   "id": "513d845f-6a0d-4a5c-b543-ca1941a1348b",
   "metadata": {},
   "outputs": [
    {
     "data": {
      "text/markdown": [
       "# NAVER 웹사이트 요약\n",
       "\n",
       "NAVER는 다양한 서비스와 정보를 제공하는 플랫폼입니다. 특히 쇼핑 블록과 관심사 블록을 통해 사용자 맞춤형 콘텐츠를 제공하며, 최신 소식이나 공지사항을 쉽게 확인할 수 있도록 새소식 블록을 운영하고 있습니다. 검색 기능이 두드러지며, 자동완성과 최근 검색어를 통해 사용자 경험을 향상시키고 있습니다. \n",
       "\n",
       "이 웹사이트는 주로 사용자들이 정보에 쉽게 접근하고, 관심 있는 주제를 탐색할 수 있도록 돕는 데 중점을 둡니다."
      ],
      "text/plain": [
       "<IPython.core.display.Markdown object>"
      ]
     },
     "metadata": {},
     "output_type": "display_data"
    }
   ],
   "source": [
    "display_summary(\"https://naver.com\")"
   ]
  },
  {
   "cell_type": "code",
   "execution_count": 20,
   "id": "7d76a8bd-ce3a-4348-b350-98c58de5ecd3",
   "metadata": {},
   "outputs": [
    {
     "data": {
      "text/markdown": [
       "# 단국대학교 웹사이트 요약\n",
       "\n",
       "단국대학교의 웹사이트는 대학의 종합적인 정보와 여러 서비스, 학사 일정, 연구 및 학생 활동에 관한 다양한 정보를 제공하는 플랫폼입니다. 주된 내용은 다음과 같습니다.\n",
       "\n",
       "## 대학 소개\n",
       "- 단국대학교의 역사, 비전, 교육 이념 및 목표에 대한 정보가 포함되어 있습니다.\n",
       "- 다양한 단과대학 및 대학원 프로그램에 대한 안내가 제공됩니다.\n",
       "\n",
       "## 최신 뉴스 및 공지사항\n",
       "- **정선주 교수**가 과기정통부의 RNA 편집 관련 프로젝트 총괄지원과제로 선정되었습니다.\n",
       "- **단국의 독립유산 전시회**가 광복 80주년을 기념하여 열립니다.\n",
       "- **합작 프로젝트**를 통한 데이터 검색 인덱스 구축에 대한 연구 결과가 발표되었습니다.\n",
       "- **전국대학생모의유엔회의**에서 외국인 유학생이 첫 수상을 하였습니다.\n",
       "- **축구부, 전국 대학 축구 대회**에서 2년 만에 우승하며 정상에 올랐습니다.\n",
       "\n",
       "## 학생 생활 및 지원\n",
       "- 수강신청, 장학금, 건강 상담 및 취업 지원 프로그램 등 학생들이 필요로 하는 다양한 서비스와 정보가 제공됩니다.\n",
       "\n",
       "## 연구 및 교육 혁신\n",
       "- 교육 및 연구 관련 공지사항과 행사가 주기적으로 안내되며, 특히 AI 및 혁신 기술에 관한 프로그램과 세미나가 계획되어 있습니다.\n",
       "\n",
       "이 외에도 각종 행사, 채용 공고 및 구매/입찰 정보가 있으며, 대학원 프로그램 및 다양한 연구소에 대한 정보도 포함되어 있습니다."
      ],
      "text/plain": [
       "<IPython.core.display.Markdown object>"
      ]
     },
     "metadata": {},
     "output_type": "display_data"
    }
   ],
   "source": [
    "display_summary(\"https://www.dankook.ac.kr/web/kor\")"
   ]
  },
  {
   "cell_type": "code",
   "execution_count": null,
   "id": "a537bc51-274e-4567-ac7b-0417e178f955",
   "metadata": {},
   "outputs": [],
   "source": []
  }
 ],
 "metadata": {
  "kernelspec": {
   "display_name": "Python 3 (ipykernel)",
   "language": "python",
   "name": "python3"
  },
  "language_info": {
   "codemirror_mode": {
    "name": "ipython",
    "version": 3
   },
   "file_extension": ".py",
   "mimetype": "text/x-python",
   "name": "python",
   "nbconvert_exporter": "python",
   "pygments_lexer": "ipython3",
   "version": "3.11.13"
  }
 },
 "nbformat": 4,
 "nbformat_minor": 5
}
